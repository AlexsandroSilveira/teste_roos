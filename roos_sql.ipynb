{
 "cells": [
  {
   "cell_type": "markdown",
   "metadata": {},
   "source": [
    "# Importações"
   ]
  },
  {
   "cell_type": "code",
   "execution_count": 1,
   "metadata": {},
   "outputs": [],
   "source": [
    "import pandas as pd\n",
    "from sqlalchemy import create_engine\n",
    "import sqlalchemy as sa"
   ]
  },
  {
   "cell_type": "markdown",
   "metadata": {},
   "source": [
    "# Criando base de Dados"
   ]
  },
  {
   "cell_type": "code",
   "execution_count": 2,
   "metadata": {},
   "outputs": [],
   "source": [
    "db = create_engine('sqlite:///db_roos.sqlite', echo=False)\n",
    "conn = db.connect()"
   ]
  },
  {
   "cell_type": "markdown",
   "metadata": {},
   "source": [
    "# Carregando os Datasets"
   ]
  },
  {
   "cell_type": "code",
   "execution_count": 3,
   "metadata": {},
   "outputs": [
    {
     "name": "stderr",
     "output_type": "stream",
     "text": [
      "/tmp/ipykernel_1816/1444766114.py:11: RemovedIn20Warning: Deprecated API features detected! These feature(s) are not compatible with SQLAlchemy 2.0. To prevent incompatible upgrades prior to updating applications, ensure requirements files are pinned to \"sqlalchemy<2.0\". Set environment variable SQLALCHEMY_WARN_20=1 to show all deprecation warnings.  Set environment variable SQLALCHEMY_SILENCE_UBER_WARNING=1 to silence this message. (Background on SQLAlchemy 2.0 at: https://sqlalche.me/e/b8d9)\n",
      "  conn.execute( schema_pessoas )\n"
     ]
    },
    {
     "data": {
      "text/plain": [
       "4"
      ]
     },
     "execution_count": 3,
     "metadata": {},
     "output_type": "execute_result"
    }
   ],
   "source": [
    "#dataset\n",
    "pessoas = pd.read_csv( '/mnt/d/repos/ROOS/data/PESSOAS.csv', sep = ';' )\n",
    "\n",
    "schema_pessoas =\"\"\"\n",
    "    CREATE TABLE PESSOAS(\n",
    "        IDPESSOA           INTEGER,\n",
    "        NOME               TEXT\n",
    ")\n",
    "\"\"\"\n",
    "#create schema\n",
    "conn.execute( schema_pessoas )\n",
    "\n",
    "# insert data into table\n",
    "pessoas.to_sql( 'PESSOAS', con=conn, if_exists='append', index=False)"
   ]
  },
  {
   "cell_type": "code",
   "execution_count": 4,
   "metadata": {},
   "outputs": [
    {
     "data": {
      "text/html": [
       "<div>\n",
       "<style scoped>\n",
       "    .dataframe tbody tr th:only-of-type {\n",
       "        vertical-align: middle;\n",
       "    }\n",
       "\n",
       "    .dataframe tbody tr th {\n",
       "        vertical-align: top;\n",
       "    }\n",
       "\n",
       "    .dataframe thead th {\n",
       "        text-align: right;\n",
       "    }\n",
       "</style>\n",
       "<table border=\"1\" class=\"dataframe\">\n",
       "  <thead>\n",
       "    <tr style=\"text-align: right;\">\n",
       "      <th></th>\n",
       "      <th>IDPESSOA</th>\n",
       "      <th>NOME</th>\n",
       "    </tr>\n",
       "  </thead>\n",
       "  <tbody>\n",
       "    <tr>\n",
       "      <th>0</th>\n",
       "      <td>25</td>\n",
       "      <td>DIEGO</td>\n",
       "    </tr>\n",
       "    <tr>\n",
       "      <th>1</th>\n",
       "      <td>26</td>\n",
       "      <td>GABRIEL</td>\n",
       "    </tr>\n",
       "    <tr>\n",
       "      <th>2</th>\n",
       "      <td>27</td>\n",
       "      <td>BRUNA</td>\n",
       "    </tr>\n",
       "    <tr>\n",
       "      <th>3</th>\n",
       "      <td>28</td>\n",
       "      <td>ALEXSANDRO</td>\n",
       "    </tr>\n",
       "  </tbody>\n",
       "</table>\n",
       "</div>"
      ],
      "text/plain": [
       "   IDPESSOA        NOME\n",
       "0        25       DIEGO\n",
       "1        26     GABRIEL\n",
       "2        27       BRUNA\n",
       "3        28  ALEXSANDRO"
      ]
     },
     "execution_count": 4,
     "metadata": {},
     "output_type": "execute_result"
    }
   ],
   "source": [
    "query = \"\"\"\n",
    "    SELECT *\n",
    "    FROM pessoas\n",
    "\"\"\"\n",
    "\n",
    "table = pd.read_sql_query(query, conn)\n",
    "table"
   ]
  },
  {
   "cell_type": "code",
   "execution_count": 5,
   "metadata": {},
   "outputs": [
    {
     "data": {
      "text/plain": [
       "6"
      ]
     },
     "execution_count": 5,
     "metadata": {},
     "output_type": "execute_result"
    }
   ],
   "source": [
    "#dataset\n",
    "romaneio = pd.read_csv( '/mnt/d/repos/ROOS/data/ROMANEIO.csv', sep = ';' )\n",
    "\n",
    "schema_romaneio =\"\"\"\n",
    "    CREATE TABLE ROMANEIO(\n",
    "        ROMANEIO           INTEGER,\n",
    "        IDPESSOA           INTEGER,\n",
    "        DATA                  TEXT,\n",
    "        ITEM               INTEGER,\n",
    "        PESO               INTEGER\n",
    ")\n",
    "\"\"\"\n",
    "#create schema\n",
    "conn.execute( schema_romaneio )\n",
    "\n",
    "# insert data into table\n",
    "romaneio.to_sql( 'ROMANEIO', con=conn, if_exists='append', index=False)"
   ]
  },
  {
   "cell_type": "code",
   "execution_count": 6,
   "metadata": {},
   "outputs": [
    {
     "data": {
      "text/html": [
       "<div>\n",
       "<style scoped>\n",
       "    .dataframe tbody tr th:only-of-type {\n",
       "        vertical-align: middle;\n",
       "    }\n",
       "\n",
       "    .dataframe tbody tr th {\n",
       "        vertical-align: top;\n",
       "    }\n",
       "\n",
       "    .dataframe thead th {\n",
       "        text-align: right;\n",
       "    }\n",
       "</style>\n",
       "<table border=\"1\" class=\"dataframe\">\n",
       "  <thead>\n",
       "    <tr style=\"text-align: right;\">\n",
       "      <th></th>\n",
       "      <th>ROMANEIO</th>\n",
       "      <th>IDPESSOA</th>\n",
       "      <th>DATA</th>\n",
       "      <th>ITEM</th>\n",
       "      <th>PESO</th>\n",
       "    </tr>\n",
       "  </thead>\n",
       "  <tbody>\n",
       "    <tr>\n",
       "      <th>0</th>\n",
       "      <td>1</td>\n",
       "      <td>25</td>\n",
       "      <td>03/02/2023</td>\n",
       "      <td>1001</td>\n",
       "      <td>3500</td>\n",
       "    </tr>\n",
       "    <tr>\n",
       "      <th>1</th>\n",
       "      <td>2</td>\n",
       "      <td>26</td>\n",
       "      <td>04/02/2023</td>\n",
       "      <td>1001</td>\n",
       "      <td>5000</td>\n",
       "    </tr>\n",
       "    <tr>\n",
       "      <th>2</th>\n",
       "      <td>3</td>\n",
       "      <td>27</td>\n",
       "      <td>05/02/2023</td>\n",
       "      <td>1002</td>\n",
       "      <td>10000</td>\n",
       "    </tr>\n",
       "    <tr>\n",
       "      <th>3</th>\n",
       "      <td>4</td>\n",
       "      <td>28</td>\n",
       "      <td>06/02/2023</td>\n",
       "      <td>1001</td>\n",
       "      <td>8000</td>\n",
       "    </tr>\n",
       "    <tr>\n",
       "      <th>4</th>\n",
       "      <td>5</td>\n",
       "      <td>25</td>\n",
       "      <td>04/01/2023</td>\n",
       "      <td>1001</td>\n",
       "      <td>8000</td>\n",
       "    </tr>\n",
       "    <tr>\n",
       "      <th>5</th>\n",
       "      <td>1</td>\n",
       "      <td>25</td>\n",
       "      <td>04/01/2023</td>\n",
       "      <td>1001</td>\n",
       "      <td>5000</td>\n",
       "    </tr>\n",
       "  </tbody>\n",
       "</table>\n",
       "</div>"
      ],
      "text/plain": [
       "   ROMANEIO  IDPESSOA        DATA  ITEM   PESO\n",
       "0         1        25  03/02/2023  1001   3500\n",
       "1         2        26  04/02/2023  1001   5000\n",
       "2         3        27  05/02/2023  1002  10000\n",
       "3         4        28  06/02/2023  1001   8000\n",
       "4         5        25  04/01/2023  1001   8000\n",
       "5         1        25  04/01/2023  1001   5000"
      ]
     },
     "execution_count": 6,
     "metadata": {},
     "output_type": "execute_result"
    }
   ],
   "source": [
    "query = \"\"\"\n",
    "    SELECT *\n",
    "    FROM romaneio\n",
    "\"\"\"\n",
    "\n",
    "table = pd.read_sql_query(query, conn)\n",
    "table"
   ]
  },
  {
   "cell_type": "code",
   "execution_count": 7,
   "metadata": {},
   "outputs": [
    {
     "data": {
      "text/plain": [
       "5"
      ]
     },
     "execution_count": 7,
     "metadata": {},
     "output_type": "execute_result"
    }
   ],
   "source": [
    "#dataset\n",
    "romaneio_teste = pd.read_csv( '/mnt/d/repos/ROOS/data/ROMANEIO_TESTE.csv', sep = ';' )\n",
    "\n",
    "schema_romaneio_teste =\"\"\"\n",
    "    CREATE TABLE ROMANEIO_TESTE(\n",
    "        ROMANEIO           INTEGER,\n",
    "        IDTESTE            INTEGER,\n",
    "        VALOR               OBJECT\n",
    ")\n",
    "\"\"\"\n",
    "#create schema\n",
    "conn.execute( schema_romaneio_teste )\n",
    "\n",
    "# insert data into table\n",
    "romaneio_teste.to_sql( 'ROMANEIO_TESTE', con=conn, if_exists='append', index=False)"
   ]
  },
  {
   "cell_type": "code",
   "execution_count": 8,
   "metadata": {},
   "outputs": [
    {
     "data": {
      "text/html": [
       "<div>\n",
       "<style scoped>\n",
       "    .dataframe tbody tr th:only-of-type {\n",
       "        vertical-align: middle;\n",
       "    }\n",
       "\n",
       "    .dataframe tbody tr th {\n",
       "        vertical-align: top;\n",
       "    }\n",
       "\n",
       "    .dataframe thead th {\n",
       "        text-align: right;\n",
       "    }\n",
       "</style>\n",
       "<table border=\"1\" class=\"dataframe\">\n",
       "  <thead>\n",
       "    <tr style=\"text-align: right;\">\n",
       "      <th></th>\n",
       "      <th>ROMANEIO</th>\n",
       "      <th>IDTESTE</th>\n",
       "      <th>VALOR</th>\n",
       "    </tr>\n",
       "  </thead>\n",
       "  <tbody>\n",
       "    <tr>\n",
       "      <th>0</th>\n",
       "      <td>1</td>\n",
       "      <td>1</td>\n",
       "      <td>17,5</td>\n",
       "    </tr>\n",
       "    <tr>\n",
       "      <th>1</th>\n",
       "      <td>1</td>\n",
       "      <td>2</td>\n",
       "      <td>15</td>\n",
       "    </tr>\n",
       "    <tr>\n",
       "      <th>2</th>\n",
       "      <td>2</td>\n",
       "      <td>2</td>\n",
       "      <td>14</td>\n",
       "    </tr>\n",
       "    <tr>\n",
       "      <th>3</th>\n",
       "      <td>2</td>\n",
       "      <td>1</td>\n",
       "      <td>17</td>\n",
       "    </tr>\n",
       "    <tr>\n",
       "      <th>4</th>\n",
       "      <td>4</td>\n",
       "      <td>3</td>\n",
       "      <td>15</td>\n",
       "    </tr>\n",
       "  </tbody>\n",
       "</table>\n",
       "</div>"
      ],
      "text/plain": [
       "   ROMANEIO  IDTESTE VALOR\n",
       "0         1        1  17,5\n",
       "1         1        2    15\n",
       "2         2        2    14\n",
       "3         2        1    17\n",
       "4         4        3    15"
      ]
     },
     "execution_count": 8,
     "metadata": {},
     "output_type": "execute_result"
    }
   ],
   "source": [
    "query = \"\"\"\n",
    "    SELECT *\n",
    "    FROM romaneio_teste\n",
    "\"\"\"\n",
    "\n",
    "table = pd.read_sql_query(query, conn)\n",
    "table"
   ]
  },
  {
   "cell_type": "code",
   "execution_count": 9,
   "metadata": {},
   "outputs": [
    {
     "data": {
      "text/plain": [
       "3"
      ]
     },
     "execution_count": 9,
     "metadata": {},
     "output_type": "execute_result"
    }
   ],
   "source": [
    "#dataset\n",
    "teste = pd.read_csv( '/mnt/d/repos/ROOS/data/TESTE.csv', sep = ';' )\n",
    "\n",
    "schema_teste =\"\"\"\n",
    "    CREATE TABLE TESTE(\n",
    "        IDTESTE           INTEGER,\n",
    "        NOME                 TEXT\n",
    ")\n",
    "\"\"\"\n",
    "#create schema\n",
    "conn.execute( schema_teste )\n",
    "\n",
    "# insert data into table\n",
    "teste.to_sql( 'TESTE', con=conn, if_exists='append', index=False)"
   ]
  },
  {
   "cell_type": "code",
   "execution_count": 10,
   "metadata": {},
   "outputs": [
    {
     "data": {
      "text/html": [
       "<div>\n",
       "<style scoped>\n",
       "    .dataframe tbody tr th:only-of-type {\n",
       "        vertical-align: middle;\n",
       "    }\n",
       "\n",
       "    .dataframe tbody tr th {\n",
       "        vertical-align: top;\n",
       "    }\n",
       "\n",
       "    .dataframe thead th {\n",
       "        text-align: right;\n",
       "    }\n",
       "</style>\n",
       "<table border=\"1\" class=\"dataframe\">\n",
       "  <thead>\n",
       "    <tr style=\"text-align: right;\">\n",
       "      <th></th>\n",
       "      <th>IDTESTE</th>\n",
       "      <th>NOME</th>\n",
       "    </tr>\n",
       "  </thead>\n",
       "  <tbody>\n",
       "    <tr>\n",
       "      <th>0</th>\n",
       "      <td>1</td>\n",
       "      <td>UMIDADE</td>\n",
       "    </tr>\n",
       "    <tr>\n",
       "      <th>1</th>\n",
       "      <td>2</td>\n",
       "      <td>IMPUREZA</td>\n",
       "    </tr>\n",
       "    <tr>\n",
       "      <th>2</th>\n",
       "      <td>3</td>\n",
       "      <td>OUTROS</td>\n",
       "    </tr>\n",
       "  </tbody>\n",
       "</table>\n",
       "</div>"
      ],
      "text/plain": [
       "   IDTESTE      NOME\n",
       "0        1   UMIDADE\n",
       "1        2  IMPUREZA\n",
       "2        3    OUTROS"
      ]
     },
     "execution_count": 10,
     "metadata": {},
     "output_type": "execute_result"
    }
   ],
   "source": [
    "query = \"\"\"\n",
    "    SELECT *\n",
    "    FROM teste\n",
    "\"\"\"\n",
    "\n",
    "table = pd.read_sql_query(query, conn)\n",
    "table"
   ]
  },
  {
   "cell_type": "markdown",
   "metadata": {},
   "source": [
    "# Teste"
   ]
  },
  {
   "cell_type": "code",
   "execution_count": 11,
   "metadata": {},
   "outputs": [
    {
     "data": {
      "text/html": [
       "<div>\n",
       "<style scoped>\n",
       "    .dataframe tbody tr th:only-of-type {\n",
       "        vertical-align: middle;\n",
       "    }\n",
       "\n",
       "    .dataframe tbody tr th {\n",
       "        vertical-align: top;\n",
       "    }\n",
       "\n",
       "    .dataframe thead th {\n",
       "        text-align: right;\n",
       "    }\n",
       "</style>\n",
       "<table border=\"1\" class=\"dataframe\">\n",
       "  <thead>\n",
       "    <tr style=\"text-align: right;\">\n",
       "      <th></th>\n",
       "      <th>ROMANEIO</th>\n",
       "      <th>NOME_PESSOA</th>\n",
       "      <th>UMIDADE</th>\n",
       "      <th>IMPUREZA</th>\n",
       "      <th>OUTROS</th>\n",
       "      <th>PESOTOTAL_ROMANEIO</th>\n",
       "    </tr>\n",
       "  </thead>\n",
       "  <tbody>\n",
       "    <tr>\n",
       "      <th>0</th>\n",
       "      <td>1</td>\n",
       "      <td>DIEGO</td>\n",
       "      <td>17,5</td>\n",
       "      <td>15.0</td>\n",
       "      <td>NaN</td>\n",
       "      <td>5000</td>\n",
       "    </tr>\n",
       "    <tr>\n",
       "      <th>1</th>\n",
       "      <td>2</td>\n",
       "      <td>GABRIEL</td>\n",
       "      <td>17</td>\n",
       "      <td>14.0</td>\n",
       "      <td>NaN</td>\n",
       "      <td>5000</td>\n",
       "    </tr>\n",
       "    <tr>\n",
       "      <th>2</th>\n",
       "      <td>3</td>\n",
       "      <td>BRUNA</td>\n",
       "      <td>None</td>\n",
       "      <td>NaN</td>\n",
       "      <td>NaN</td>\n",
       "      <td>10000</td>\n",
       "    </tr>\n",
       "    <tr>\n",
       "      <th>3</th>\n",
       "      <td>4</td>\n",
       "      <td>ALEXSANDRO</td>\n",
       "      <td>None</td>\n",
       "      <td>NaN</td>\n",
       "      <td>15.0</td>\n",
       "      <td>8000</td>\n",
       "    </tr>\n",
       "    <tr>\n",
       "      <th>4</th>\n",
       "      <td>5</td>\n",
       "      <td>DIEGO</td>\n",
       "      <td>None</td>\n",
       "      <td>NaN</td>\n",
       "      <td>NaN</td>\n",
       "      <td>8000</td>\n",
       "    </tr>\n",
       "  </tbody>\n",
       "</table>\n",
       "</div>"
      ],
      "text/plain": [
       "   ROMANEIO NOME_PESSOA UMIDADE  IMPUREZA  OUTROS  PESOTOTAL_ROMANEIO\n",
       "0         1       DIEGO    17,5      15.0     NaN                5000\n",
       "1         2     GABRIEL      17      14.0     NaN                5000\n",
       "2         3       BRUNA    None       NaN     NaN               10000\n",
       "3         4  ALEXSANDRO    None       NaN    15.0                8000\n",
       "4         5       DIEGO    None       NaN     NaN                8000"
      ]
     },
     "execution_count": 11,
     "metadata": {},
     "output_type": "execute_result"
    }
   ],
   "source": [
    "query = \"\"\"\n",
    "    SELECT\n",
    "        r.romaneio,\n",
    "        p.nome AS NOME_PESSOA,\n",
    "        MAX (CASE WHEN t.nome = \"UMIDADE\" THEN rt.valor END) AS UMIDADE,\n",
    "        MAX (CASE WHEN t.nome = \"IMPUREZA\" THEN rt.valor END) AS IMPUREZA,\n",
    "        MAX (CASE WHEN t.nome = \"OUTROS\" THEN rt.valor END) AS OUTROS,\n",
    "        r.peso AS PESOTOTAL_ROMANEIO\n",
    "        \n",
    "\n",
    "    \n",
    "    FROM romaneio r LEFT JOIN pessoas p ON r.idpessoa = p.idpessoa\n",
    "                    LEFT JOIN romaneio_teste rt ON r.romaneio = rt.romaneio\n",
    "                    LEFT JOIN teste t ON rt.idteste = t.idteste\n",
    "                    \n",
    "    GROUP BY r.romaneio           \n",
    "\n",
    "  \"\"\"\n",
    "\n",
    "table = pd.read_sql_query(query, conn)\n",
    "table"
   ]
  },
  {
   "cell_type": "code",
   "execution_count": null,
   "metadata": {},
   "outputs": [],
   "source": []
  }
 ],
 "metadata": {
  "kernelspec": {
   "display_name": "Python 3.10.7 64-bit ('3.10-dev')",
   "language": "python",
   "name": "python3"
  },
  "language_info": {
   "codemirror_mode": {
    "name": "ipython",
    "version": 3
   },
   "file_extension": ".py",
   "mimetype": "text/x-python",
   "name": "python",
   "nbconvert_exporter": "python",
   "pygments_lexer": "ipython3",
   "version": "3.10.7+"
  },
  "orig_nbformat": 4,
  "vscode": {
   "interpreter": {
    "hash": "374e06b39145fa51438958d5bbbc4afb5910da55a4d06b4c382d25f6ee36033c"
   }
  }
 },
 "nbformat": 4,
 "nbformat_minor": 2
}
